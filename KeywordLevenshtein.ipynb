{
 "cells": [
  {
   "cell_type": "code",
   "execution_count": 16,
   "metadata": {
    "scrolled": true
   },
   "outputs": [
    {
     "name": "stdout",
     "output_type": "stream",
     "text": [
      "['west', 'north', 'south', 'centre', 'east']\n"
     ]
    }
   ],
   "source": [
    "import os\n",
    "import Levenshtein as lDist\n",
    "import pandas as pd\n",
    "\n",
    "foodTypes = []\n",
    "areaTypes = []\n",
    "priceRanges = []\n",
    "\n",
    "restaurants = pd.read_csv(\"restaurantinfo.csv\")\n",
    "\n",
    "#Get all the categories (there's prolly a function for this but I couldn't find one (sad))\n",
    "for entry in restaurants[\"food\"]:\n",
    "    if entry not in foodTypes:\n",
    "        foodTypes.append(entry)\n",
    "        \n",
    "for entry in restaurants[\"area\"]:\n",
    "    if entry not in areaTypes:\n",
    "        areaTypes.append(entry)\n",
    "        \n",
    "for entry in restaurants[\"pricerange\"]:\n",
    "    if entry not in priceRanges:\n",
    "        priceRanges.append(entry)\n",
    "    \n",
    "#Remove the nan's\n",
    "areaTypes = [x for x in areaTypes if str(x) != 'nan']"
   ]
  },
  {
   "cell_type": "code",
   "execution_count": 27,
   "metadata": {},
   "outputs": [
    {
     "name": "stdout",
     "output_type": "stream",
     "text": [
      "north\n",
      "{'area': 'north'}\n"
     ]
    }
   ],
   "source": [
    "def determinePreferences(sentence, preferenceProfile):\n",
    "    \n",
    "    #Check whether a preference is specified literally\n",
    "    words = sentence.split(\" \")\n",
    "    \n",
    "    for word in words:\n",
    "        if word in foodTypes:\n",
    "            preferenceProfile[\"food\"] = word\n",
    "            return preferenceProfile\n",
    "        if word in areaTypes:\n",
    "            preferenceProfile[\"area\"] = word\n",
    "            return preferenceProfile\n",
    "        if word in priceRanges:\n",
    "            preferenceProfile[\"pricerange\"] = word\n",
    "            return preferenceProfile\n",
    "    \n",
    "    #If none are found, levenshtein distances will be calculated\n",
    "    dict = {}\n",
    "    highest = 5\n",
    "    \n",
    "    #Loop through each word. For each word, check for each category types \n",
    "    #if there is a lowest distance that is also lower than 3. \n",
    "    for word in words:\n",
    "        for category1 in foodTypes:\n",
    "            distance = lDist.distance(word, category1)\n",
    "            if distance <= 3 and (distance < highest or distance == 1):\n",
    "                highest = distance\n",
    "                dict[category1] = distance\n",
    "        for category2 in areaTypes:\n",
    "            distance = lDist.distance(word, category2)\n",
    "            if distance <= 3 and (distance < highest or distance == 1):\n",
    "                highest = distance\n",
    "                dict[category2] = distance\n",
    "        for category3 in priceRanges:\n",
    "            distance = lDist.distance(word, category3)\n",
    "            if distance <= 3 and (distance < highest or distance == 1):\n",
    "                highest = distance\n",
    "                dict[category3] = distance\n",
    "    \n",
    "    #If the algorithm has actually found something, it's time to get the lowest value. \n",
    "    lowestValue = \"\"\n",
    "    if dict:\n",
    "        lowestValue = min(dict, key=dict.get)\n",
    "    \n",
    "    #Finally, check for each property whether the lowest value is that property and assign it accordingly\n",
    "    if lowestValue in foodTypes:\n",
    "        preferenceProfile[\"food\"] = lowestValue\n",
    "        \n",
    "    if lowestValue in areaTypes:\n",
    "        preferenceProfile[\"area\"] = lowestValue\n",
    "        \n",
    "    if lowestValue in priceRanges:\n",
    "        preferenceProfile[\"pricerange\"] = lowestValue\n",
    "        \n",
    "    return preferenceProfile"
   ]
  },
  {
   "cell_type": "code",
   "execution_count": null,
   "metadata": {},
   "outputs": [],
   "source": []
  }
 ],
 "metadata": {
  "kernelspec": {
   "display_name": "Python 3",
   "language": "python",
   "name": "python3"
  },
  "language_info": {
   "codemirror_mode": {
    "name": "ipython",
    "version": 3
   },
   "file_extension": ".py",
   "mimetype": "text/x-python",
   "name": "python",
   "nbconvert_exporter": "python",
   "pygments_lexer": "ipython3",
   "version": "3.7.3"
  }
 },
 "nbformat": 4,
 "nbformat_minor": 2
}
