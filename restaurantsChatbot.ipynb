{
 "cells": [
  {
   "cell_type": "markdown",
   "metadata": {},
   "source": [
    "### Data Parsing"
   ]
  },
  {
   "cell_type": "code",
   "execution_count": 19,
   "metadata": {},
   "outputs": [],
   "source": [
    "import os\n",
    "import json \n",
    "import glob\n",
    "\n",
    "def printConvo(userData, systemData):\n",
    "    print(\"session id:\", userData[\"session-id\"])\n",
    "\n",
    "    print(userData[\"task-information\"][\"goal\"][\"text\"])\n",
    "\n",
    "    temp = 0\n",
    "    for speach in systemData[\"turns\"]:\n",
    "        print(\"system:\", speach[\"output\"][\"transcript\"])\n",
    "        print(\"user:\", userData[\"turns\"][temp][\"transcription\"])\n",
    "        temp += 1\n",
    "\n",
    "def writeFiles(userData, systemData, conversationsFile, utterancesFile):\n",
    "    \n",
    "    conversationsFile.write(\"session id: %s\\n\" % userData[\"session-id\"])\n",
    "    conversationsFile.write(\"%s\\n\" % userData[\"task-information\"][\"goal\"][\"text\"])\n",
    "\n",
    "    temp = 0\n",
    "    for speach in systemData[\"turns\"]:\n",
    "        \n",
    "        dialogAct = userData[\"turns\"][temp][\"semantics\"][\"cam\"]\n",
    "        utteranceContent = userData[\"turns\"][temp][\"transcription\"]\n",
    "        \n",
    "        conversationsFile.write(\"system: %s\\n\" %  speach[\"output\"][\"transcript\"])\n",
    "        conversationsFile.write(\"user: %s\\n\" % utteranceContent)\n",
    "        utterancesFile.write(\"%s-%s\\n\" % (dialogAct.split(\"(\")[0], utteranceContent.lower()))\n",
    "        \n",
    "        temp += 1\n",
    "    \n",
    "    conversationsFile.write(\"\\n\\n\")\n",
    "\n",
    "def writeFile(waiting):\n",
    "    if waiting is False:\n",
    "        conversationsFile = open(\"convo.txt\", \"w+\")\n",
    "        utterancesFile = open(\"utterances.txt\", \"w+\")\n",
    "    \n",
    "    userFiles = glob.glob('**/label.json', recursive=True)\n",
    "    systemFiles = glob.glob('**/log.json', recursive=True)\n",
    "    i = 0\n",
    "    for userFile in userFiles:\n",
    "        with open(userFile) as f:\n",
    "            userData = json.load(f)\n",
    "        with open(systemFiles[i]) as f:\n",
    "            systemData = json.load(f)\n",
    "        i += 1\n",
    "        if waiting is True :\n",
    "            printConvo(userData, systemData)\n",
    "            input('press Enter to display another chat both conversation')\n",
    "        else: \n",
    "            writeFiles(userData, systemData, conversationsFile, utterancesFile)\n",
    "\n",
    "    if waiting is False: \n",
    "        conversationsFile.close()\n",
    "        utterancesFile.close()\n",
    "\n",
    "writeFile(False)"
   ]
  },
  {
   "cell_type": "markdown",
   "metadata": {},
   "source": [
    "### Splitting Sets"
   ]
  },
  {
   "cell_type": "code",
   "execution_count": 16,
   "metadata": {},
   "outputs": [
    {
     "name": "stdout",
     "output_type": "stream",
     "text": [
      "982\n",
      "174\n"
     ]
    }
   ],
   "source": [
    "import numpy as np\n",
    "\n",
    "utterancesFile = open(\"utterances.txt\", \"r\")\n",
    "utterancesData = {}\n",
    "for line in utterancesFile:\n",
    "    line = line.split(\"-\")\n",
    "    if line[0] not in utterancesData:\n",
    "        utterancesData[line[0]] = []    \n",
    "    utterancesData[line[0]].append(line[1].strip())\n",
    "    \n",
    "trainingData = {}\n",
    "testData = {}\n",
    "for dialogType in utterancesData:\n",
    "    splitted = np.split(utterancesData[dialogType], [int(len(utterancesData[dialogType]) * 0.85)])\n",
    "    trainingData[dialogType] = splitted[0].tolist()\n",
    "    testData[dialogType] = splitted[1].tolist()"
   ]
  },
  {
   "cell_type": "code",
   "execution_count": null,
   "metadata": {},
   "outputs": [],
   "source": []
  }
 ],
 "metadata": {
  "kernelspec": {
   "display_name": "Python 3",
   "language": "python",
   "name": "python3"
  },
  "language_info": {
   "codemirror_mode": {
    "name": "ipython",
    "version": 3
   },
   "file_extension": ".py",
   "mimetype": "text/x-python",
   "name": "python",
   "nbconvert_exporter": "python",
   "pygments_lexer": "ipython3",
   "version": "3.7.3"
  }
 },
 "nbformat": 4,
 "nbformat_minor": 2
}
